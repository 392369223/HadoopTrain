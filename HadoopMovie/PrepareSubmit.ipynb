{
 "cells": [
  {
   "cell_type": "code",
   "execution_count": 50,
   "metadata": {},
   "outputs": [],
   "source": [
    "import pandas as pd \n",
    "class Prepare:\n",
    "    def read_data(self,name):\n",
    "        self.data=pd.read_csv(name)\n",
    "    def address_duplicate(self):\n",
    "        #将完全相同的去除\n",
    "        self.data=self.data.drop_duplicates()\n",
    "    def address_null(self):\n",
    "        for row in self.data.columns:\n",
    "            self.data[row]=self.data[row].fillna('0')\n",
    "    def save(self,name):\n",
    "        self.data.to_csv(name,index=None,header=None,encoding='utf-8')"
   ]
  },
  {
   "cell_type": "code",
   "execution_count": 51,
   "metadata": {},
   "outputs": [],
   "source": [
    "pre=Prepare()\n",
    "pre.read_data(\"mydata.csv\")\n",
    "pre.address_duplicate()\n",
    "pre.address_null()\n",
    "pre.save(\"prepare2.csv\")"
   ]
  }
 ],
 "metadata": {
  "kernelspec": {
   "display_name": "Python 3",
   "language": "python",
   "name": "python3"
  },
  "language_info": {
   "codemirror_mode": {
    "name": "ipython",
    "version": 3
   },
   "file_extension": ".py",
   "mimetype": "text/x-python",
   "name": "python",
   "nbconvert_exporter": "python",
   "pygments_lexer": "ipython3",
   "version": "3.7.4"
  }
 },
 "nbformat": 4,
 "nbformat_minor": 2
}
