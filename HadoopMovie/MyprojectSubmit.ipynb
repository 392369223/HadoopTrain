{
 "cells": [
  {
   "cell_type": "code",
   "execution_count": 3,
   "metadata": {},
   "outputs": [],
   "source": [
    "import pymysql\n",
    "class ConnectDatabase:\n",
    "    def connect(self,host,user,passwd,database):\n",
    "        self.db=pymysql.connect(host=host,user=user,password=passwd,database=database)\n",
    "        self.cursor=self.db.cursor()\n",
    "    def close(self):\n",
    "        self.db.close()\n",
    "        self.cursor.close()\n",
    "    def executeSql(self,sql):\n",
    "        self.cursor.execute(sql)\n",
    "        return self.cursor.fetchall()"
   ]
  },
  {
   "cell_type": "code",
   "execution_count": 4,
   "metadata": {
    "code_folding": [
     77
    ]
   },
   "outputs": [],
   "source": [
    "import pyecharts.options as opts\n",
    "from pyecharts.charts import Bar\n",
    "from pyecharts.commons.utils import JsCode\n",
    "from pyecharts.globals import ThemeType\n",
    "from pyecharts.charts import Line\n",
    "from pyecharts.charts import PictorialBar\n",
    "from pyecharts.globals import SymbolType\n",
    "from pyecharts.components import Table\n",
    "from pyecharts.options import ComponentTitleOpts\n",
    "class Visible:\n",
    "    #实现柱状图\n",
    "    def Bar(self,x,y1,y2,name1,name2,label,name):\n",
    "        c = (\n",
    "            Bar(init_opts=opts.InitOpts(theme=ThemeType.LIGHT))\n",
    "            .add_xaxis(x)\n",
    "            .add_yaxis(name1, y1, stack=\"stack1\", category_gap=\"50%\")\n",
    "            .add_yaxis(name2, y2,stack=\"stack1\", category_gap=\"50%\")\n",
    "            .set_series_opts(\n",
    "                label_opts=opts.LabelOpts(\n",
    "                    position=\"right\",\n",
    "                    formatter=JsCode(\n",
    "                        \"function(x){return Number(x.data.percent * 100).toFixed() + '%';}\"\n",
    "                    ),\n",
    "                )\n",
    "            )\n",
    "        )\n",
    "        if label==0:\n",
    "            return c.render_notebook()\n",
    "        elif label==-1:\n",
    "                return c\n",
    "        else:\n",
    "            return c.render(name)\n",
    "    def Line(self,x,y,label,name):\n",
    "            line=(\n",
    "                Line()\n",
    "                .set_global_opts(\n",
    "                    tooltip_opts=opts.TooltipOpts(is_show=False),\n",
    "                    xaxis_opts=opts.AxisOpts(type_=\"category\"),\n",
    "                    yaxis_opts=opts.AxisOpts(\n",
    "                        type_=\"value\",\n",
    "                        axistick_opts=opts.AxisTickOpts(is_show=True),\n",
    "                        splitline_opts=opts.SplitLineOpts(is_show=True),\n",
    "                    ),\n",
    "                )\n",
    "                .add_xaxis(xaxis_data=x)\n",
    "                .add_yaxis(\n",
    "                    series_name=\"评分折线图\",\n",
    "                    y_axis=y,\n",
    "                    symbol=\"emptyCircle\",\n",
    "                    is_symbol_show=True,\n",
    "                    label_opts=opts.LabelOpts(is_show=False),\n",
    "                )\n",
    "            )\n",
    "            if label==0:\n",
    "                return line.render_notebook()\n",
    "            elif label==-1:\n",
    "                return line\n",
    "            else:\n",
    "                return line.render(name)\n",
    "    def elephantBar(self,x,y,label,name):\n",
    "        c = (\n",
    "            PictorialBar()\n",
    "            .add_xaxis(x)\n",
    "            .add_yaxis(\n",
    "                \"\",\n",
    "                y,\n",
    "                label_opts=opts.LabelOpts(is_show=False),\n",
    "                symbol_size=18,\n",
    "                symbol_repeat=\"fixed\",\n",
    "                symbol_offset=[0, 0],\n",
    "                is_symbol_clip=True,\n",
    "                symbol=SymbolType.ROUND_RECT,\n",
    "            )\n",
    "            .reversal_axis()\n",
    "            .set_global_opts(\n",
    "                title_opts=opts.TitleOpts(title=\"每年电影的总观看量\"),\n",
    "                xaxis_opts=opts.AxisOpts(is_show=False),\n",
    "                yaxis_opts=opts.AxisOpts(\n",
    "                    axistick_opts=opts.AxisTickOpts(is_show=False),\n",
    "                    axisline_opts=opts.AxisLineOpts(\n",
    "                        linestyle_opts=opts.LineStyleOpts(opacity=0)\n",
    "                    ),\n",
    "                ),\n",
    "            )\n",
    "        )\n",
    "        if label==0:\n",
    "            return c.render_notebook()\n",
    "        elif label==-1:\n",
    "                return c\n",
    "        else:\n",
    "            return c.render(name)\n",
    "    def table(self,head,rows,label,name):\n",
    "        table = Table()\n",
    "        headers = head\n",
    "        table.add(headers, rows)\n",
    "        table.set_global_opts(\n",
    "            title_opts=ComponentTitleOpts(title=\"每年上映的电影数量,平均评分和总观看人数\", subtitle=\"副标题\")\n",
    "        )\n",
    "        if label==0:\n",
    "            return table.render_notebook()\n",
    "        elif label==-1:\n",
    "                return table\n",
    "        else:\n",
    "            return table.render(name)"
   ]
  },
  {
   "cell_type": "code",
   "execution_count": 5,
   "metadata": {},
   "outputs": [
    {
     "name": "stdout",
     "output_type": "stream",
     "text": [
      "12 12\n"
     ]
    }
   ],
   "source": [
    "#数据预处理1\n",
    "con=ConnectDatabase()\n",
    "con.connect(\"localhost\",\"root\",\"root\",\"data\")\n",
    "sql='select year,count(*) from dt3 where score>5 group by year order by year;'\n",
    "result=con.executeSql(sql)\n",
    "year=list(range(2010,2022))\n",
    "big=[]\n",
    "for i in range(len(year)):\n",
    "    big.append({\"value\":0})\n",
    "for row in result:\n",
    "    big[year.index(row[0])]['value']=row[1]\n",
    "sql='select year,count(*) from dt3 where score<=5 group by year order by year;'\n",
    "result=con.executeSql(sql)\n",
    "little=[]\n",
    "for i in range(len(year)):\n",
    "    little.append({\"value\":0})\n",
    "for row in result:\n",
    "    little[year.index(row[0])]['value']=row[1]\n",
    "print(len(big),len(little))\n",
    "for row in range(len(big)):\n",
    "    big[row][\"percent\"]=big[row][\"value\"]/(big[row][\"value\"]+little[row][\"value\"])\n",
    "    little[row][\"percent\"]=little[row][\"value\"]/(big[row][\"value\"]+little[row][\"value\"])\n",
    "newYear=[]\n",
    "for row in year:\n",
    "    newYear.append(str(row))"
   ]
  },
  {
   "cell_type": "code",
   "execution_count": 6,
   "metadata": {
    "scrolled": false
   },
   "outputs": [
    {
     "data": {
      "text/plain": [
       "'C:\\\\Users\\\\Lenovo\\\\hadoop实训\\\\1.html'"
      ]
     },
     "execution_count": 6,
     "metadata": {},
     "output_type": "execute_result"
    }
   ],
   "source": [
    "visible=Visible()\n",
    "visible.Bar(newYear,big,little,\"评分大于5的电影数量\",\"评分小于5的电影数量\",1,'1.html')"
   ]
  },
  {
   "cell_type": "code",
   "execution_count": 7,
   "metadata": {},
   "outputs": [],
   "source": [
    "#数据处理2\n",
    "sql=\"select year,avg(score) from dt3 group by year;\"\n",
    "result=con.executeSql(sql)\n",
    "year=[]\n",
    "avgscore=[]\n",
    "for row in result:\n",
    "    year.append(str(row[0]))\n",
    "    avgscore.append(round(row[1],2))"
   ]
  },
  {
   "cell_type": "code",
   "execution_count": 8,
   "metadata": {},
   "outputs": [
    {
     "data": {
      "text/plain": [
       "'C:\\\\Users\\\\Lenovo\\\\hadoop实训\\\\2.html'"
      ]
     },
     "execution_count": 8,
     "metadata": {},
     "output_type": "execute_result"
    }
   ],
   "source": [
    "visible.Line(year,avgscore,1,'2.html')"
   ]
  },
  {
   "cell_type": "code",
   "execution_count": 9,
   "metadata": {},
   "outputs": [],
   "source": [
    "#数据处理3\n",
    "sql=\"select year,sum(coun) coun from dt3 group by year;\"\n",
    "result=con.executeSql(sql)\n",
    "year=[]\n",
    "visit=[]\n",
    "for row in result:\n",
    "    year.append(str(row[0]))\n",
    "    visit.append(int(row[1]))"
   ]
  },
  {
   "cell_type": "code",
   "execution_count": 10,
   "metadata": {},
   "outputs": [
    {
     "data": {
      "text/plain": [
       "'C:\\\\Users\\\\Lenovo\\\\hadoop实训\\\\3.html'"
      ]
     },
     "execution_count": 10,
     "metadata": {},
     "output_type": "execute_result"
    }
   ],
   "source": [
    "visible.elephantBar(year,visit,1,'3.html')"
   ]
  },
  {
   "cell_type": "code",
   "execution_count": 11,
   "metadata": {},
   "outputs": [],
   "source": [
    "#数据预处理4\n",
    "sql=\"select year,count(*),avg(score),sum(coun) from dt3 group by year;\"\n",
    "result=con.executeSql(sql)\n",
    "head=[\"年份\",\"电影数量\",\"平均评分\",\"总观看人数\"]\n",
    "rows=[]\n",
    "for row in result:\n",
    "    rows.append([row[0],row[1],round(row[2],2),row[3]])"
   ]
  },
  {
   "cell_type": "code",
   "execution_count": 12,
   "metadata": {},
   "outputs": [
    {
     "data": {
      "text/plain": [
       "'C:\\\\Users\\\\Lenovo\\\\hadoop实训\\\\4.html'"
      ]
     },
     "execution_count": 12,
     "metadata": {},
     "output_type": "execute_result"
    }
   ],
   "source": [
    "visible.table(head,rows,1,'4.html')"
   ]
  },
  {
   "cell_type": "code",
   "execution_count": 17,
   "metadata": {},
   "outputs": [
    {
     "data": {
      "text/plain": [
       "'<!DOCTYPE html>\\n<html>\\n<head>\\n    <meta charset=\"UTF-8\">\\n    <title>Awesome-pyecharts</title>\\n            <script type=\"text/javascript\" src=\"https://assets.pyecharts.org/assets/echarts.min.js\"></script>\\n        <script type=\"text/javascript\" src=\"https://assets.pyecharts.org/assets/jquery.min.js\"></script>\\n        <script type=\"text/javascript\" src=\"https://assets.pyecharts.org/assets/jquery-ui.min.js\"></script>\\n        <script type=\"text/javascript\" src=\"https://assets.pyecharts.org/assets/ResizeSensor.js\"></script>\\n\\n            <link rel=\"stylesheet\"  href=\"https://assets.pyecharts.org/assets/jquery-ui.css\">\\n\\n</head>\\n<body>\\n    <style>.box {  }; </style>\\n        \\n    <div class=\"box\">\\n                <div id=\"7afcb7aa24604a4a811a2f00c20e8798\" class=\"chart-container\" style=\"position: absolute; width: 523px; height: 330px; top: 31.80000114440918px; left: 501px;\"></div>\\n    <script>\\n        var chart_7afcb7aa24604a4a811a2f00c20e8798 = echarts.init(\\n            document.getElementById(\\'7afcb7aa24604a4a811a2f00c20e8798\\'), \\'light\\', {renderer: \\'canvas\\'});\\n        var option_7afcb7aa24604a4a811a2f00c20e8798 = {\\n    \"animation\": true,\\n    \"animationThreshold\": 2000,\\n    \"animationDuration\": 1000,\\n    \"animationEasing\": \"cubicOut\",\\n    \"animationDelay\": 0,\\n    \"animationDurationUpdate\": 300,\\n    \"animationEasingUpdate\": \"cubicOut\",\\n    \"animationDelayUpdate\": 0,\\n    \"series\": [\\n        {\\n            \"type\": \"bar\",\\n            \"name\": \"\\\\u8bc4\\\\u5206\\\\u5927\\\\u4e8e5\\\\u7684\\\\u7535\\\\u5f71\\\\u6570\\\\u91cf\",\\n            \"legendHoverLink\": true,\\n            \"data\": [\\n                {\\n                    \"value\": 21,\\n                    \"percent\": 0.875\\n                },\\n                {\\n                    \"value\": 15,\\n                    \"percent\": 0.9375\\n                },\\n                {\\n                    \"value\": 17,\\n                    \"percent\": 0.85\\n                },\\n                {\\n                    \"value\": 12,\\n                    \"percent\": 0.9230769230769231\\n                },\\n                {\\n                    \"value\": 14,\\n                    \"percent\": 0.9333333333333333\\n                },\\n                {\\n                    \"value\": 18,\\n                    \"percent\": 0.9473684210526315\\n                },\\n                {\\n                    \"value\": 17,\\n                    \"percent\": 1.0\\n                },\\n                {\\n                    \"value\": 16,\\n                    \"percent\": 0.8421052631578947\\n                },\\n                {\\n                    \"value\": 24,\\n                    \"percent\": 0.9230769230769231\\n                },\\n                {\\n                    \"value\": 15,\\n                    \"percent\": 0.8333333333333334\\n                },\\n                {\\n                    \"value\": 18,\\n                    \"percent\": 1.0\\n                },\\n                {\\n                    \"value\": 14,\\n                    \"percent\": 1.0\\n                }\\n            ],\\n            \"showBackground\": false,\\n            \"stack\": \"stack1\",\\n            \"barMinHeight\": 0,\\n            \"barCategoryGap\": \"50%\",\\n            \"barGap\": \"30%\",\\n            \"large\": false,\\n            \"largeThreshold\": 400,\\n            \"seriesLayoutBy\": \"column\",\\n            \"datasetIndex\": 0,\\n            \"clip\": true,\\n            \"zlevel\": 0,\\n            \"z\": 2,\\n            \"label\": {\\n                \"show\": true,\\n                \"position\": \"right\",\\n                \"margin\": 8,\\n                \"formatter\": function(x){return Number(x.data.percent * 100).toFixed() + \\'%\\';}\\n            },\\n            \"rippleEffect\": {\\n                \"show\": true,\\n                \"brushType\": \"stroke\",\\n                \"scale\": 2.5,\\n                \"period\": 4\\n            }\\n        },\\n        {\\n            \"type\": \"bar\",\\n            \"name\": \"\\\\u8bc4\\\\u5206\\\\u5c0f\\\\u4e8e5\\\\u7684\\\\u7535\\\\u5f71\\\\u6570\\\\u91cf\",\\n            \"legendHoverLink\": true,\\n            \"data\": [\\n                {\\n                    \"value\": 3,\\n                    \"percent\": 0.125\\n                },\\n                {\\n                    \"value\": 1,\\n                    \"percent\": 0.0625\\n                },\\n                {\\n                    \"value\": 3,\\n                    \"percent\": 0.15\\n                },\\n                {\\n                    \"value\": 1,\\n                    \"percent\": 0.07692307692307693\\n                },\\n                {\\n                    \"value\": 1,\\n                    \"percent\": 0.06666666666666667\\n                },\\n                {\\n                    \"value\": 1,\\n                    \"percent\": 0.05263157894736842\\n                },\\n                {\\n                    \"value\": 0,\\n                    \"percent\": 0.0\\n                },\\n                {\\n                    \"value\": 3,\\n                    \"percent\": 0.15789473684210525\\n                },\\n                {\\n                    \"value\": 2,\\n                    \"percent\": 0.07692307692307693\\n                },\\n                {\\n                    \"value\": 3,\\n                    \"percent\": 0.16666666666666666\\n                },\\n                {\\n                    \"value\": 0,\\n                    \"percent\": 0.0\\n                },\\n                {\\n                    \"value\": 0,\\n                    \"percent\": 0.0\\n                }\\n            ],\\n            \"showBackground\": false,\\n            \"stack\": \"stack1\",\\n            \"barMinHeight\": 0,\\n            \"barCategoryGap\": \"50%\",\\n            \"barGap\": \"30%\",\\n            \"large\": false,\\n            \"largeThreshold\": 400,\\n            \"seriesLayoutBy\": \"column\",\\n            \"datasetIndex\": 0,\\n            \"clip\": true,\\n            \"zlevel\": 0,\\n            \"z\": 2,\\n            \"label\": {\\n                \"show\": true,\\n                \"position\": \"right\",\\n                \"margin\": 8,\\n                \"formatter\": function(x){return Number(x.data.percent * 100).toFixed() + \\'%\\';}\\n            },\\n            \"rippleEffect\": {\\n                \"show\": true,\\n                \"brushType\": \"stroke\",\\n                \"scale\": 2.5,\\n                \"period\": 4\\n            }\\n        }\\n    ],\\n    \"legend\": [\\n        {\\n            \"data\": [\\n                \"\\\\u8bc4\\\\u5206\\\\u5927\\\\u4e8e5\\\\u7684\\\\u7535\\\\u5f71\\\\u6570\\\\u91cf\",\\n                \"\\\\u8bc4\\\\u5206\\\\u5c0f\\\\u4e8e5\\\\u7684\\\\u7535\\\\u5f71\\\\u6570\\\\u91cf\"\\n            ],\\n            \"selected\": {\\n                \"\\\\u8bc4\\\\u5206\\\\u5927\\\\u4e8e5\\\\u7684\\\\u7535\\\\u5f71\\\\u6570\\\\u91cf\": true,\\n                \"\\\\u8bc4\\\\u5206\\\\u5c0f\\\\u4e8e5\\\\u7684\\\\u7535\\\\u5f71\\\\u6570\\\\u91cf\": true\\n            }\\n        }\\n    ],\\n    \"tooltip\": {\\n        \"show\": true,\\n        \"trigger\": \"item\",\\n        \"triggerOn\": \"mousemove|click\",\\n        \"axisPointer\": {\\n            \"type\": \"line\"\\n        },\\n        \"showContent\": true,\\n        \"alwaysShowContent\": false,\\n        \"showDelay\": 0,\\n        \"hideDelay\": 100,\\n        \"textStyle\": {\\n            \"fontSize\": 14\\n        },\\n        \"borderWidth\": 0,\\n        \"padding\": 5\\n    },\\n    \"xAxis\": [\\n        {\\n            \"show\": true,\\n            \"scale\": false,\\n            \"nameLocation\": \"end\",\\n            \"nameGap\": 15,\\n            \"gridIndex\": 0,\\n            \"inverse\": false,\\n            \"offset\": 0,\\n            \"splitNumber\": 5,\\n            \"minInterval\": 0,\\n            \"splitLine\": {\\n                \"show\": false,\\n                \"lineStyle\": {\\n                    \"show\": true,\\n                    \"width\": 1,\\n                    \"opacity\": 1,\\n                    \"curveness\": 0,\\n                    \"type\": \"solid\"\\n                }\\n            },\\n            \"data\": [\\n                \"2010\",\\n                \"2011\",\\n                \"2012\",\\n                \"2013\",\\n                \"2014\",\\n                \"2015\",\\n                \"2016\",\\n                \"2017\",\\n                \"2018\",\\n                \"2019\",\\n                \"2020\",\\n                \"2021\"\\n            ]\\n        }\\n    ],\\n    \"yAxis\": [\\n        {\\n            \"show\": true,\\n            \"scale\": false,\\n            \"nameLocation\": \"end\",\\n            \"nameGap\": 15,\\n            \"gridIndex\": 0,\\n            \"inverse\": false,\\n            \"offset\": 0,\\n            \"splitNumber\": 5,\\n            \"minInterval\": 0,\\n            \"splitLine\": {\\n                \"show\": false,\\n                \"lineStyle\": {\\n                    \"show\": true,\\n                    \"width\": 1,\\n                    \"opacity\": 1,\\n                    \"curveness\": 0,\\n                    \"type\": \"solid\"\\n                }\\n            }\\n        }\\n    ]\\n};\\n        chart_7afcb7aa24604a4a811a2f00c20e8798.setOption(option_7afcb7aa24604a4a811a2f00c20e8798);\\n    </script>\\n<br/>                <div id=\"c78c43ab5b8c4c12a8fbc109ae920882\" class=\"chart-container\" style=\"position: absolute; width: 520px; height: 332px; top: 31.600000381469727px; left: -21px;\"></div>\\n    <script>\\n        var chart_c78c43ab5b8c4c12a8fbc109ae920882 = echarts.init(\\n            document.getElementById(\\'c78c43ab5b8c4c12a8fbc109ae920882\\'), \\'white\\', {renderer: \\'canvas\\'});\\n        var option_c78c43ab5b8c4c12a8fbc109ae920882 = {\\n    \"animation\": true,\\n    \"animationThreshold\": 2000,\\n    \"animationDuration\": 1000,\\n    \"animationEasing\": \"cubicOut\",\\n    \"animationDelay\": 0,\\n    \"animationDurationUpdate\": 300,\\n    \"animationEasingUpdate\": \"cubicOut\",\\n    \"animationDelayUpdate\": 0,\\n    \"color\": [\\n        \"#c23531\",\\n        \"#2f4554\",\\n        \"#61a0a8\",\\n        \"#d48265\",\\n        \"#749f83\",\\n        \"#ca8622\",\\n        \"#bda29a\",\\n        \"#6e7074\",\\n        \"#546570\",\\n        \"#c4ccd3\",\\n        \"#f05b72\",\\n        \"#ef5b9c\",\\n        \"#f47920\",\\n        \"#905a3d\",\\n        \"#fab27b\",\\n        \"#2a5caa\",\\n        \"#444693\",\\n        \"#726930\",\\n        \"#b2d235\",\\n        \"#6d8346\",\\n        \"#ac6767\",\\n        \"#1d953f\",\\n        \"#6950a1\",\\n        \"#918597\"\\n    ],\\n    \"series\": [\\n        {\\n            \"type\": \"line\",\\n            \"name\": \"\\\\u57fa\\\\u672c\\\\u6298\\\\u7ebf\\\\u56fe\",\\n            \"connectNulls\": false,\\n            \"symbol\": \"emptyCircle\",\\n            \"symbolSize\": 4,\\n            \"showSymbol\": true,\\n            \"smooth\": false,\\n            \"clip\": true,\\n            \"step\": false,\\n            \"data\": [\\n                [\\n                    \"2010\",\\n                    7.9\\n                ],\\n                [\\n                    \"2011\",\\n                    8.36\\n                ],\\n                [\\n                    \"2012\",\\n                    7.51\\n                ],\\n                [\\n                    \"2013\",\\n                    8.32\\n                ],\\n                [\\n                    \"2014\",\\n                    8.17\\n                ],\\n                [\\n                    \"2015\",\\n                    8.35\\n                ],\\n                [\\n                    \"2016\",\\n                    8.31\\n                ],\\n                [\\n                    \"2017\",\\n                    7.91\\n                ],\\n                [\\n                    \"2018\",\\n                    8.01\\n                ],\\n                [\\n                    \"2019\",\\n                    7.92\\n                ],\\n                [\\n                    \"2020\",\\n                    8.81\\n                ],\\n                [\\n                    \"2021\",\\n                    8.19\\n                ]\\n            ],\\n            \"hoverAnimation\": true,\\n            \"label\": {\\n                \"show\": false,\\n                \"position\": \"top\",\\n                \"margin\": 8\\n            },\\n            \"lineStyle\": {\\n                \"show\": true,\\n                \"width\": 1,\\n                \"opacity\": 1,\\n                \"curveness\": 0,\\n                \"type\": \"solid\"\\n            },\\n            \"areaStyle\": {\\n                \"opacity\": 0\\n            },\\n            \"zlevel\": 0,\\n            \"z\": 0\\n        }\\n    ],\\n    \"legend\": [\\n        {\\n            \"data\": [\\n                \"\\\\u57fa\\\\u672c\\\\u6298\\\\u7ebf\\\\u56fe\"\\n            ],\\n            \"selected\": {\\n                \"\\\\u57fa\\\\u672c\\\\u6298\\\\u7ebf\\\\u56fe\": true\\n            },\\n            \"show\": true,\\n            \"padding\": 5,\\n            \"itemGap\": 10,\\n            \"itemWidth\": 25,\\n            \"itemHeight\": 14\\n        }\\n    ],\\n    \"tooltip\": {\\n        \"show\": false,\\n        \"trigger\": \"item\",\\n        \"triggerOn\": \"mousemove|click\",\\n        \"axisPointer\": {\\n            \"type\": \"line\"\\n        },\\n        \"showContent\": true,\\n        \"alwaysShowContent\": false,\\n        \"showDelay\": 0,\\n        \"hideDelay\": 100,\\n        \"textStyle\": {\\n            \"fontSize\": 14\\n        },\\n        \"borderWidth\": 0,\\n        \"padding\": 5\\n    },\\n    \"xAxis\": [\\n        {\\n            \"type\": \"category\",\\n            \"show\": true,\\n            \"scale\": false,\\n            \"nameLocation\": \"end\",\\n            \"nameGap\": 15,\\n            \"gridIndex\": 0,\\n            \"inverse\": false,\\n            \"offset\": 0,\\n            \"splitNumber\": 5,\\n            \"minInterval\": 0,\\n            \"splitLine\": {\\n                \"show\": false,\\n                \"lineStyle\": {\\n                    \"show\": true,\\n                    \"width\": 1,\\n                    \"opacity\": 1,\\n                    \"curveness\": 0,\\n                    \"type\": \"solid\"\\n                }\\n            },\\n            \"data\": [\\n                \"2010\",\\n                \"2011\",\\n                \"2012\",\\n                \"2013\",\\n                \"2014\",\\n                \"2015\",\\n                \"2016\",\\n                \"2017\",\\n                \"2018\",\\n                \"2019\",\\n                \"2020\",\\n                \"2021\"\\n            ]\\n        }\\n    ],\\n    \"yAxis\": [\\n        {\\n            \"type\": \"value\",\\n            \"show\": true,\\n            \"scale\": false,\\n            \"nameLocation\": \"end\",\\n            \"nameGap\": 15,\\n            \"gridIndex\": 0,\\n            \"axisTick\": {\\n                \"show\": true,\\n                \"alignWithLabel\": false,\\n                \"inside\": false\\n            },\\n            \"inverse\": false,\\n            \"offset\": 0,\\n            \"splitNumber\": 5,\\n            \"minInterval\": 0,\\n            \"splitLine\": {\\n                \"show\": true,\\n                \"lineStyle\": {\\n                    \"show\": true,\\n                    \"width\": 1,\\n                    \"opacity\": 1,\\n                    \"curveness\": 0,\\n                    \"type\": \"solid\"\\n                }\\n            }\\n        }\\n    ],\\n    \"title\": [\\n        {\\n            \"padding\": 5,\\n            \"itemGap\": 10\\n        }\\n    ]\\n};\\n        chart_c78c43ab5b8c4c12a8fbc109ae920882.setOption(option_c78c43ab5b8c4c12a8fbc109ae920882);\\n    </script>\\n<br/>                <div id=\"17fe6cf024a849d89a6683bee04fb8d3\" class=\"chart-container\" style=\"position: absolute; width: 1023px; height: 404px; top: 363.3999938964844px; left: 1px;\"></div>\\n    <script>\\n        var chart_17fe6cf024a849d89a6683bee04fb8d3 = echarts.init(\\n            document.getElementById(\\'17fe6cf024a849d89a6683bee04fb8d3\\'), \\'white\\', {renderer: \\'canvas\\'});\\n        var option_17fe6cf024a849d89a6683bee04fb8d3 = {\\n    \"animation\": true,\\n    \"animationThreshold\": 2000,\\n    \"animationDuration\": 1000,\\n    \"animationEasing\": \"cubicOut\",\\n    \"animationDelay\": 0,\\n    \"animationDurationUpdate\": 300,\\n    \"animationEasingUpdate\": \"cubicOut\",\\n    \"animationDelayUpdate\": 0,\\n    \"color\": [\\n        \"#c23531\",\\n        \"#2f4554\",\\n        \"#61a0a8\",\\n        \"#d48265\",\\n        \"#749f83\",\\n        \"#ca8622\",\\n        \"#bda29a\",\\n        \"#6e7074\",\\n        \"#546570\",\\n        \"#c4ccd3\",\\n        \"#f05b72\",\\n        \"#ef5b9c\",\\n        \"#f47920\",\\n        \"#905a3d\",\\n        \"#fab27b\",\\n        \"#2a5caa\",\\n        \"#444693\",\\n        \"#726930\",\\n        \"#b2d235\",\\n        \"#6d8346\",\\n        \"#ac6767\",\\n        \"#1d953f\",\\n        \"#6950a1\",\\n        \"#918597\"\\n    ],\\n    \"series\": [\\n        {\\n            \"type\": \"pictorialBar\",\\n            \"symbol\": \"roundRect\",\\n            \"symbolSize\": 18,\\n            \"symbolOffset\": [\\n                0,\\n                0\\n            ],\\n            \"symbolRepeat\": \"fixed\",\\n            \"symbolClip\": true,\\n            \"data\": [\\n                1163913,\\n                741585,\\n                1121572,\\n                890331,\\n                567728,\\n                1135821,\\n                782501,\\n                1025018,\\n                1191929,\\n                998247,\\n                746865,\\n                864595\\n            ],\\n            \"barCategoryGap\": \"20%\",\\n            \"label\": {\\n                \"show\": false,\\n                \"position\": \"top\",\\n                \"margin\": 8\\n            }\\n        }\\n    ],\\n    \"legend\": [\\n        {\\n            \"data\": [\\n                \"\"\\n            ],\\n            \"selected\": {\\n                \"\": true\\n            },\\n            \"show\": true,\\n            \"padding\": 5,\\n            \"itemGap\": 10,\\n            \"itemWidth\": 25,\\n            \"itemHeight\": 14\\n        }\\n    ],\\n    \"tooltip\": {\\n        \"show\": true,\\n        \"trigger\": \"item\",\\n        \"triggerOn\": \"mousemove|click\",\\n        \"axisPointer\": {\\n            \"type\": \"line\"\\n        },\\n        \"showContent\": true,\\n        \"alwaysShowContent\": false,\\n        \"showDelay\": 0,\\n        \"hideDelay\": 100,\\n        \"textStyle\": {\\n            \"fontSize\": 14\\n        },\\n        \"borderWidth\": 0,\\n        \"padding\": 5\\n    },\\n    \"xAxis\": [\\n        {\\n            \"show\": false,\\n            \"scale\": false,\\n            \"nameLocation\": \"end\",\\n            \"nameGap\": 15,\\n            \"gridIndex\": 0,\\n            \"inverse\": false,\\n            \"offset\": 0,\\n            \"splitNumber\": 5,\\n            \"minInterval\": 0,\\n            \"splitLine\": {\\n                \"show\": false,\\n                \"lineStyle\": {\\n                    \"show\": true,\\n                    \"width\": 1,\\n                    \"opacity\": 1,\\n                    \"curveness\": 0,\\n                    \"type\": \"solid\"\\n                }\\n            }\\n        }\\n    ],\\n    \"yAxis\": [\\n        {\\n            \"show\": true,\\n            \"scale\": false,\\n            \"nameLocation\": \"end\",\\n            \"nameGap\": 15,\\n            \"gridIndex\": 0,\\n            \"axisLine\": {\\n                \"show\": true,\\n                \"onZero\": true,\\n                \"onZeroAxisIndex\": 0,\\n                \"lineStyle\": {\\n                    \"show\": true,\\n                    \"width\": 1,\\n                    \"opacity\": 0,\\n                    \"curveness\": 0,\\n                    \"type\": \"solid\"\\n                }\\n            },\\n            \"axisTick\": {\\n                \"show\": false,\\n                \"alignWithLabel\": false,\\n                \"inside\": false\\n            },\\n            \"inverse\": false,\\n            \"offset\": 0,\\n            \"splitNumber\": 5,\\n            \"minInterval\": 0,\\n            \"splitLine\": {\\n                \"show\": false,\\n                \"lineStyle\": {\\n                    \"show\": true,\\n                    \"width\": 1,\\n                    \"opacity\": 1,\\n                    \"curveness\": 0,\\n                    \"type\": \"solid\"\\n                }\\n            },\\n            \"data\": [\\n                \"2010\",\\n                \"2011\",\\n                \"2012\",\\n                \"2013\",\\n                \"2014\",\\n                \"2015\",\\n                \"2016\",\\n                \"2017\",\\n                \"2018\",\\n                \"2019\",\\n                \"2020\",\\n                \"2021\"\\n            ]\\n        }\\n    ],\\n    \"title\": [\\n        {\\n            \"text\": \"\\\\u6bcf\\\\u5e74\\\\u7535\\\\u5f71\\\\u7684\\\\u603b\\\\u89c2\\\\u770b\\\\u91cf\",\\n            \"padding\": 5,\\n            \"itemGap\": 10\\n        }\\n    ]\\n};\\n        chart_17fe6cf024a849d89a6683bee04fb8d3.setOption(option_17fe6cf024a849d89a6683bee04fb8d3);\\n    </script>\\n<br/>                        <style>\\n            .fl-table {\\n                margin: 20px;\\n                border-radius: 5px;\\n                font-size: 12px;\\n                border: none;\\n                border-collapse: collapse;\\n                max-width: 100%;\\n                white-space: nowrap;\\n                word-break: keep-all;\\n            }\\n\\n            .fl-table th {\\n                text-align: left;\\n                font-size: 20px;\\n            }\\n\\n            .fl-table tr {\\n                display: table-row;\\n                vertical-align: inherit;\\n                border-color: inherit;\\n            }\\n\\n            .fl-table tr:hover td {\\n                background: #00d1b2;\\n                color: #F8F8F8;\\n            }\\n\\n            .fl-table td, .fl-table th {\\n                border-style: none;\\n                border-top: 1px solid #dbdbdb;\\n                border-left: 1px solid #dbdbdb;\\n                border-bottom: 3px solid #dbdbdb;\\n                border-right: 1px solid #dbdbdb;\\n                padding: .5em .55em;\\n                font-size: 15px;\\n            }\\n\\n            .fl-table td {\\n                border-style: none;\\n                font-size: 15px;\\n                vertical-align: center;\\n                border-bottom: 1px solid #dbdbdb;\\n                border-left: 1px solid #dbdbdb;\\n                border-right: 1px solid #dbdbdb;\\n                height: 30px;\\n            }\\n\\n            .fl-table tr:nth-child(even) {\\n                background: #F8F8F8;\\n            }\\n        </style>\\n        <div id=\"c4f8633d69104fbe8423b18bdd242d1c\" class=\"chart-container\" style=\"position: absolute; width: 449px; height: 822px; top: 7.200000286102295px; left: 1040px;\">\\n            <p class=\"title\" style=\"font-size: 18px; font-weight:bold;\" > 每年上映的电影数量,平均评分和总观看人数</p>\\n            <p class=\"subtitle\" style=\"font-size: 12px;\" > 副标题</p>\\n            <table class=\"fl-table\">\\n    <thead>\\n        <tr>\\n            <th>年份</th>\\n            <th>电影数量</th>\\n            <th>平均评分</th>\\n            <th>总观看人数</th>\\n        </tr>\\n    </thead>\\n    <tbody>\\n        <tr>\\n            <td>2010</td>\\n            <td>24</td>\\n            <td>7.9</td>\\n            <td>1163913</td>\\n        </tr>\\n        <tr>\\n            <td>2011</td>\\n            <td>16</td>\\n            <td>8.36</td>\\n            <td>741585</td>\\n        </tr>\\n        <tr>\\n            <td>2012</td>\\n            <td>20</td>\\n            <td>7.51</td>\\n            <td>1121572</td>\\n        </tr>\\n        <tr>\\n            <td>2013</td>\\n            <td>13</td>\\n            <td>8.32</td>\\n            <td>890331</td>\\n        </tr>\\n        <tr>\\n            <td>2014</td>\\n            <td>15</td>\\n            <td>8.17</td>\\n            <td>567728</td>\\n        </tr>\\n        <tr>\\n            <td>2015</td>\\n            <td>19</td>\\n            <td>8.35</td>\\n            <td>1135821</td>\\n        </tr>\\n        <tr>\\n            <td>2016</td>\\n            <td>17</td>\\n            <td>8.31</td>\\n            <td>782501</td>\\n        </tr>\\n        <tr>\\n            <td>2017</td>\\n            <td>19</td>\\n            <td>7.91</td>\\n            <td>1025018</td>\\n        </tr>\\n        <tr>\\n            <td>2018</td>\\n            <td>26</td>\\n            <td>8.01</td>\\n            <td>1191929</td>\\n        </tr>\\n        <tr>\\n            <td>2019</td>\\n            <td>18</td>\\n            <td>7.92</td>\\n            <td>998247</td>\\n        </tr>\\n        <tr>\\n            <td>2020</td>\\n            <td>18</td>\\n            <td>8.81</td>\\n            <td>746865</td>\\n        </tr>\\n        <tr>\\n            <td>2021</td>\\n            <td>14</td>\\n            <td>8.19</td>\\n            <td>864595</td>\\n        </tr>\\n    </tbody>\\n</table>\\n        </div>\\n\\n<br/>    </div>\\n    <script>\\n            $(\\'#7afcb7aa24604a4a811a2f00c20e8798\\').css(\\'border-style\\', \\'dashed\\').css(\\'border-width\\', \\'0px\\');$(\"#7afcb7aa24604a4a811a2f00c20e8798>div:nth-child(1)\").width(\"100%\").height(\"100%\");\\n            new ResizeSensor(jQuery(\\'#7afcb7aa24604a4a811a2f00c20e8798\\'), function() { chart_7afcb7aa24604a4a811a2f00c20e8798.resize()});\\n            $(\\'#c78c43ab5b8c4c12a8fbc109ae920882\\').css(\\'border-style\\', \\'dashed\\').css(\\'border-width\\', \\'0px\\');$(\"#c78c43ab5b8c4c12a8fbc109ae920882>div:nth-child(1)\").width(\"100%\").height(\"100%\");\\n            new ResizeSensor(jQuery(\\'#c78c43ab5b8c4c12a8fbc109ae920882\\'), function() { chart_c78c43ab5b8c4c12a8fbc109ae920882.resize()});\\n            $(\\'#17fe6cf024a849d89a6683bee04fb8d3\\').css(\\'border-style\\', \\'dashed\\').css(\\'border-width\\', \\'0px\\');$(\"#17fe6cf024a849d89a6683bee04fb8d3>div:nth-child(1)\").width(\"100%\").height(\"100%\");\\n            new ResizeSensor(jQuery(\\'#17fe6cf024a849d89a6683bee04fb8d3\\'), function() { chart_17fe6cf024a849d89a6683bee04fb8d3.resize()});\\n            $(\\'#c4f8633d69104fbe8423b18bdd242d1c\\').css(\\'border-style\\', \\'dashed\\').css(\\'border-width\\', \\'0px\\');$(\"#c4f8633d69104fbe8423b18bdd242d1c>div:nth-child(1)\").width(\"100%\").height(\"100%\");\\n            var charts_id = [\\'7afcb7aa24604a4a811a2f00c20e8798\\',\\'c78c43ab5b8c4c12a8fbc109ae920882\\',\\'17fe6cf024a849d89a6683bee04fb8d3\\',\\'c4f8633d69104fbe8423b18bdd242d1c\\'];\\nfunction downloadCfg () {\\n    const fileName = \\'chart_config.json\\'\\n    let downLink = document.createElement(\\'a\\')\\n    downLink.download = fileName\\n\\n    let result = []\\n    for(let i=0; i<charts_id.length; i++) {\\n        chart = $(\\'#\\'+charts_id[i])\\n        result.push({\\n            cid: charts_id[i],\\n            width: chart.css(\"width\"),\\n            height: chart.css(\"height\"),\\n            top: chart.offset().top + \"px\",\\n            left: chart.offset().left + \"px\"\\n        })\\n    }\\n\\n    let blob = new Blob([JSON.stringify(result)])\\n    downLink.href = URL.createObjectURL(blob)\\n    document.body.appendChild(downLink)\\n    downLink.click()\\n    document.body.removeChild(downLink)\\n}\\n    </script>\\n</body>\\n</html>\\n'"
      ]
     },
     "execution_count": 17,
     "metadata": {},
     "output_type": "execute_result"
    }
   ],
   "source": [
    "import json\n",
    "import pandas as pd\n",
    "import numpy as np\n",
    "from pyecharts import options as opts \n",
    "from pyecharts.charts import Geo,Map,Bar, Line, Page,Pie, Boxplot, WordCloud\n",
    "from pyecharts.globals import ChartType, SymbolType,ThemeType\n",
    "page = Page(layout=Page.DraggablePageLayout)\n",
    "page.add(visible.Bar(newYear,big,little,\"评分大于5的电影数量\",\"评分小于5的电影数量\",-1,'1.html'),visible.Line(year,avgscore,-1,'2.html')\n",
    "        ,visible.elephantBar(year,visit,-1,'3.html'),visible.table(head,rows,-1,'4.html'))\n",
    "#page.render(\"test.html\")\n",
    "Page.save_resize_html(\"test.html\", cfg_file=\"chart_config.json\",dest=\"my_test.html\")"
   ]
  },
  {
   "cell_type": "code",
   "execution_count": 19,
   "metadata": {},
   "outputs": [],
   "source": [
    "words = [\n",
    "    (\"Sam S Club\", 10000),\n",
    "    (\"Macys\", 6181),\n",
    "    (\"Amy Schumer\", 4386),\n",
    "    (\"Jurassic World\", 4055),\n",
    "    (\"Charter Communications\", 2467),\n",
    "    (\"Chick Fil A\", 2244),\n",
    "    (\"Planet Fitness\", 1868),\n",
    "    (\"Pitch Perfect\", 1484),\n",
    "    (\"Express\", 1112),\n",
    "    (\"Home\", 865),\n",
    "    (\"Johnny Depp\", 847),\n",
    "    (\"Lena Dunham\", 582),\n",
    "    (\"Lewis Hamilton\", 555),\n",
    "    (\"KXAN\", 550),\n",
    "    (\"Mary Ellen Mark\", 462),\n",
    "    (\"Farrah Abraham\", 366),\n",
    "    (\"Rita Ora\", 360),\n",
    "    (\"Serena Williams\", 282),\n",
    "    (\"NCAA baseball tournament\", 273),\n",
    "    (\"Point Break\", 265),\n",
    "]\n",
    "c = (\n",
    "    WordCloud()\n",
    "    .add(\"\", words, word_size_range=[20, 100], shape=SymbolType.DIAMOND)\n",
    "    .set_global_opts(title_opts=opts.TitleOpts(title=\"WordCloud-shape-diamond\"))\n",
    "    .render_notebook()\n",
    ")"
   ]
  },
  {
   "cell_type": "code",
   "execution_count": 32,
   "metadata": {},
   "outputs": [],
   "source": [
    "sql=\"select title,coun from dt3\"\n",
    "result=con.executeSql(sql)\n",
    "l=[]\n",
    "for row in result:\n",
    "    l.append([str(row[0]),int(row[1])])"
   ]
  },
  {
   "cell_type": "code",
   "execution_count": 33,
   "metadata": {},
   "outputs": [
    {
     "data": {
      "text/plain": [
       "[['觉醒年代', 32183],\n",
       " ['我买了一个农场', 4892],\n",
       " ['大人物', 99563],\n",
       " ['诸神的黄昏 第二季', 29691],\n",
       " ['洛基 第一季', 73439],\n",
       " ['致命女人 第二季', 85808],\n",
       " ['东城梦魇', 18419],\n",
       " ['以你的心诠释我的爱 第二季', 30560],\n",
       " ['御赐小仵作', 73517],\n",
       " ['Move to Heaven：我是遗物整理师', 84004],\n",
       " ['月光变奏曲', 55445],\n",
       " ['心惊胆战的同居', 81779],\n",
       " ['时光代理人', 81279],\n",
       " ['爱上特种兵', 17840],\n",
       " ['光荣与梦想', 54074],\n",
       " ['大豆田永久子与三名前夫', 38326],\n",
       " ['我的青铜时代', 61527],\n",
       " ['顶楼 第三季', 30755],\n",
       " ['眷思量', 98441],\n",
       " ['以你的心诠释我的爱', 80027],\n",
       " ['9号秘事 第六季', 33079],\n",
       " ['山海情', 67196],\n",
       " ['庆余年 第一季', 8466],\n",
       " ['鹿角男孩', 59430],\n",
       " ['山河令', 92834],\n",
       " ['萌探探探案', 13040],\n",
       " ['无罪之最', 37757],\n",
       " ['短剧开始啦', 60286],\n",
       " ['窥探', 82327],\n",
       " ['某天，灭亡从我家玄关进来了', 13542],\n",
       " ['向往的生活 第五季', 6048],\n",
       " ['逆天奇案', 56683],\n",
       " ['五十公里桃花坞', 38256],\n",
       " ['禁忌女孩', 80481],\n",
       " ['至上之法', 91182],\n",
       " ['放学别走', 31052],\n",
       " ['致不灭的你', 62449],\n",
       " ['双世宠妃Ⅲ', 73802],\n",
       " ['理想照耀中国', 42121],\n",
       " ['春季露营', 48031],\n",
       " ['火神的眼泪', 37472],\n",
       " ['沉默的真相', 32462],\n",
       " ['猎狼者', 312],\n",
       " ['禁忌女孩2', 30956],\n",
       " ['后翼弃兵', 44839],\n",
       " ['爱，死亡和机器人 第二季', 64561],\n",
       " ['四重奏', 56594],\n",
       " ['请回答1988', 35657],\n",
       " ['五月的青春', 25395],\n",
       " ['你是我的城池营垒', 29824],\n",
       " ['奇巧计程车', 63447],\n",
       " ['白色巨塔', 79584],\n",
       " ['模范出租车', 29668],\n",
       " ['恰好是少年', 74173],\n",
       " ['明星大侦探之名侦探学院 第四季', 28687],\n",
       " ['密室大逃脱 第三季', 72914],\n",
       " ['我的', 11116],\n",
       " ['顶楼 第一季', 70406],\n",
       " ['彷徨之刃', 88185],\n",
       " ['非自然死亡', 55493],\n",
       " ['机智的恋爱生活', 55025],\n",
       " ['旺达幻视', 95665],\n",
       " ['琅琊榜', 1519],\n",
       " ['后宫·甄嬛传', 97274],\n",
       " ['老友记 第十季', 23677],\n",
       " ['机智医生生活', 22105],\n",
       " ['爱你，维克托 第二季', 99993],\n",
       " ['司藤', 24229],\n",
       " ['咒术回战', 50589],\n",
       " ['猎鹰与冬兵', 33305],\n",
       " ['非正式会谈 第6.5季', 68327],\n",
       " ['城市的边缘', 47492],\n",
       " ['我们与恶的距离', 49473],\n",
       " ['真探 第三季', 46662],\n",
       " ['花好月又圆', 71216],\n",
       " ['青春须早为', 69818],\n",
       " ['灵笼', 72910],\n",
       " ['亚森·罗宾 第二季', 62834],\n",
       " ['大宋少年志', 31133],\n",
       " ['一不小心捡到爱', 94765],\n",
       " ['365：逆转命运的1年', 7438],\n",
       " ['潜伏', 34237],\n",
       " ['武林外传', 85213],\n",
       " ['窥探：捕食者', 76943],\n",
       " ['终极笔记', 75993],\n",
       " ['画江湖之不良人4', 82853],\n",
       " ['海贼王', 769],\n",
       " ['隐秘的角落', 47135],\n",
       " ['雁归西窗月', 17737],\n",
       " ['当你沉睡时', 19434],\n",
       " ['百炼成钢', 36590],\n",
       " ['风犬少年的天空', 53071],\n",
       " ['壮志高飞', 6664],\n",
       " ['绝命毒师  第五季', 94880],\n",
       " ['薇薇 -萤石眼之歌-', 78635],\n",
       " ['机智牢房生活', 59461],\n",
       " ['罗小黑战记', 48580],\n",
       " ['大发不动产', 75812],\n",
       " ['凪的新生活', 36545],\n",
       " ['白夜追凶', 91130],\n",
       " ['红楼梦', 94015],\n",
       " ['如蝶翩翩', 62688],\n",
       " ['模仿', 58295],\n",
       " ['怦然心动20岁', 15408],\n",
       " ['棋魂', 16864],\n",
       " ['我的大叔', 7058],\n",
       " ['另一半的我和你', 55221],\n",
       " ['龙岭迷窟', 19152],\n",
       " ['孤单又灿烂的神：鬼怪', 83962],\n",
       " ['美好的日子', 64130],\n",
       " ['不疯不狂不爱你', 27858],\n",
       " ['父母爱情', 86606],\n",
       " ['想见你', 37464],\n",
       " ['大明王朝1566', 21188],\n",
       " ['十三邀 第五季', 2312],\n",
       " ['两不疑', 1817],\n",
       " ['信号', 405],\n",
       " ['鬼灭之刃', 64549],\n",
       " ['传闻中的陈芊芊', 62120],\n",
       " ['机甲拳击 第二季', 84930],\n",
       " ['奔跑吧 第五季', 34145],\n",
       " ['盛装恋爱有理由', 40979],\n",
       " ['长歌行', 41060],\n",
       " ['伪装者', 26259],\n",
       " ['生活家', 1137],\n",
       " ['象牙山爱逗团', 86708],\n",
       " ['顶楼 第二季', 8390],\n",
       " ['斗罗大陆', 61489],\n",
       " ['俗女养成记', 60218],\n",
       " ['重启之极海听雷 第一季', 19390],\n",
       " ['独活女子的推荐', 78863],\n",
       " ['陈情令', 47857],\n",
       " ['长安十二时辰', 74082],\n",
       " ['典籍里的中国', 56181],\n",
       " ['小舍得', 89829],\n",
       " ['白马公主 第一季', 44013],\n",
       " ['我的天才女友 第二季', 2877],\n",
       " ['黄金小子', 82745],\n",
       " ['我和我的时光少年', 67762],\n",
       " ['秦岭神树', 91849],\n",
       " ['新世纪福音战士', 76737],\n",
       " ['灵探特莱丝', 12231],\n",
       " ['文森佐', 88498],\n",
       " ['过把瘾', 37198],\n",
       " ['锵锵行天下 第二季', 53616],\n",
       " ['去他*的世界 第二季', 51646],\n",
       " ['逃避虽可耻但有用', 91453],\n",
       " ['绝望主妇  第八季', 97118],\n",
       " ['芸芸众生', 47126],\n",
       " ['心向快乐 第二季', 97529],\n",
       " ['大力女子都奉顺', 48277],\n",
       " ['小谢尔顿 第四季', 67514],\n",
       " ['胜者即是正义', 3291],\n",
       " ['越狱 第五季', 36202],\n",
       " ['极限挑战 第七季', 72664],\n",
       " ['瑞克和莫蒂 第四季', 95604],\n",
       " ['恶之花', 74906],\n",
       " ['良医 第四季', 16202],\n",
       " ['重启之极海听雷 第二季', 13533],\n",
       " ['进击的巨人 最终季', 5421],\n",
       " ['W-两个世界', 97573],\n",
       " ['半泽直树', 82967],\n",
       " ['我们的法兰西岁月', 88687],\n",
       " ['使女的故事 第四季', 37425],\n",
       " ['钢之炼金术师FA', 4358],\n",
       " ['黑镜 第五季', 91758],\n",
       " ['如此可爱的我们', 86050],\n",
       " ['人民的名义', 67637],\n",
       " ['性爱自修室 第二季', 37248],\n",
       " ['风声', 34629],\n",
       " ['如懿传', 49186],\n",
       " ['乌鸦小姐与蜥蜴先生', 67436],\n",
       " ['骇人来电', 32760],\n",
       " ['最好的我们', 12727],\n",
       " ['浪客行', 59071],\n",
       " ['若是一个人', 23053],\n",
       " ['柯明斯基理论 第三季', 48647],\n",
       " ['镇魂街 第二季', 36572],\n",
       " ['名侦探柯南', 74080],\n",
       " ['小小少年', 97970],\n",
       " ['出差十五夜', 82782],\n",
       " ['亮剑', 77882],\n",
       " ['离婚活动', 85666],\n",
       " ['伍六七之玄武国篇', 8578],\n",
       " ['爱的迫降', 26781],\n",
       " ['以你的心诠释我的爱 幕后花絮', 849],\n",
       " ['走向共和', 7731],\n",
       " ['王冠 第四季', 87523],\n",
       " ['正常人', 30143],\n",
       " ['三十而已', 64198],\n",
       " ['我们这一天 第五季', 82062],\n",
       " ['匹诺曹', 11686],\n",
       " ['河西走廊', 33796],\n",
       " ['秘密森林', 15182],\n",
       " ['浴血黑帮 第五季', 3989],\n",
       " ['龙樱2', 48843],\n",
       " ['摩天大楼', 89196],\n",
       " ['谁是宝藏歌手', 70774],\n",
       " ['再次十八岁', 1399],\n",
       " ['杀死伊芙 第三季', 91640],\n",
       " ['灌篮高手', 6489],\n",
       " ['蓝色大海的传说', 1079],\n",
       " ['破产姐妹 第六季', 92959],\n",
       " ['太空有点烫', 12633],\n",
       " ['琉璃', 73051],\n",
       " ['天道', 66553],\n",
       " ['疑犯追踪 第五季', 58787],\n",
       " ['星际牛仔', 68730],\n",
       " ['遇龙', 30393],\n",
       " ['大江大河2', 41999],\n",
       " ['真相捕捉 第一季', 51893],\n",
       " ['幸福谷 第二季', 69034],\n",
       " ['知否知否应是绿肥红瘦', 44534],\n",
       " ['隐秘的细节', 32989],\n",
       " ['权力的游戏 第八季', 58590],\n",
       " ['大江大河', 67480],\n",
       " ['东京爱情故事', 59505],\n",
       " ['甜蜜家园', 80625],\n",
       " ['赘婿', 85100]]"
      ]
     },
     "execution_count": 33,
     "metadata": {},
     "output_type": "execute_result"
    }
   ],
   "source": [
    "l"
   ]
  },
  {
   "cell_type": "code",
   "execution_count": 35,
   "metadata": {},
   "outputs": [],
   "source": [
    "words = l\n",
    "c = (\n",
    "    WordCloud()\n",
    "    .add(\"\", words, word_size_range=[20, 100], shape=SymbolType.DIAMOND)\n",
    "    .set_global_opts(title_opts=opts.TitleOpts(title=\"WordCloud-shape-diamond\"))\n",
    "    .render('myciyun.html')\n",
    ")"
   ]
  },
  {
   "cell_type": "code",
   "execution_count": null,
   "metadata": {},
   "outputs": [],
   "source": []
  }
 ],
 "metadata": {
  "kernelspec": {
   "display_name": "Python 3",
   "language": "python",
   "name": "python3"
  },
  "language_info": {
   "codemirror_mode": {
    "name": "ipython",
    "version": 3
   },
   "file_extension": ".py",
   "mimetype": "text/x-python",
   "name": "python",
   "nbconvert_exporter": "python",
   "pygments_lexer": "ipython3",
   "version": "3.7.4"
  }
 },
 "nbformat": 4,
 "nbformat_minor": 2
}
